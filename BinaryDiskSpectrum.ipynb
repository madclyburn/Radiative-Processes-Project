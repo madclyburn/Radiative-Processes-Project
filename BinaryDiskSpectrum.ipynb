{
 "cells": [
  {
   "cell_type": "markdown",
   "metadata": {},
   "source": [
    "# Radiative Processes Project: Binary Disk Spectrum\n",
    "My proposed Jupyter notebook project for the Radiative Processes class is a toy-model python script to calculate the spectrum from a gas disk around an unequal-mass, accreting, massive black hole binary (MBHB). MBHBs are predicted to form from galaxy mergers after the respective black holes within the two galaxies sink towards the center due to dynamical friction. Unequal mass MBHBs are more likely to form than equal mass systems. Gas remnants from the galaxy merger will settle into 3 disks around the MBHB system: an inner disk around the primary (or larger) black hole, a secondary mini-disk around the secondary (or smaller) black hole, and the outer disk that extends from the secondary black hole's orbit outwards. Assuming a steady state disk, we can estimate the spectrum of each disk to be a blackbody spectrum. My code will take initial conditions (such as mass of the binary, mass ratio of black holes, and Eddington accretion rate factor) and output the total spectrum of the MBHB system by adding the blackbody spectrum for each disk. This is directly relevant to my research and has never been produced in the literature. Later, I will extend this project to take initial conditions from my simulations of MBHB systems inspiralling towards merger to determine how the spectral appearance of MBHB evolves over the inspiral."
   ]
  },
  {
   "cell_type": "markdown",
   "metadata": {},
   "source": [
    "The next cell will import the necessary python libraries"
   ]
  },
  {
   "cell_type": "code",
   "execution_count": 1,
   "metadata": {},
   "outputs": [],
   "source": [
      "from numpy import logspace, pi, sqrt, exp, zeros_like, log10, diff \n",
      "from matplotlib import pyplot as plt"
   ]
  },
  {
   "cell_type": "markdown",
   "metadata": {},
   "source": [
    "Here we define the constants for any MBHB system in cgs units:"
   ]
  },
  {
   "cell_type": "code",
   "execution_count": 2,
   "metadata": {},
   "outputs": [],
   "source": [
      "G = 6.67e-8  # cm^3 g^-1 s^-2 \n",
      "Msun = 2e33  # g \n",
      "sb = 5.67e-5  # g s^-3 K^-4: Stefan Boltzman Constant in cgs \n",
      "c = 3e10  # cm s^-1 \n",
      "h = 6.626e-27  # ergs s: Planck Constant in cgs \n",
      "k = 1.38e-16  # ergs K^-1 \n",
      "year = 3.15e7 # s \n", 
      "tsal = 5e7 * year # s: salpeter time \n",
      "erg = 6.242e11  # eV"
   ]
  },
  {
   "cell_type": "markdown",
   "metadata": {},
   "source": [
    "Below are functions for the innermost stable circular orbit (ISCO) around a black hole and the Hill radius of the secondary black hole:"
   ]
  },
  {
   "cell_type": "code",
   "execution_count": 1,
   "metadata": {},
   "outputs": [],
   "source": [
      "def Risco(M): \n",
      "# The radius of the innermost stable circular orbit \n",
      "# This asusmes a Schwarzschild spacetime, i.e. non-spinning black hole \n", 
      "  return 12 * G * M / c**2 \n \n", 
      "def HillR(q): \n",
      "# The Hill radius given the mass ratio of the binary \n",
      "# This is Eqn. 2 of Eggleton (1982) \n",
      "  return 0.49 * (q ** (2 / 3)) / (0.6 * q ** (2 / 3) + log(1 + q ** (1 / 3)))"
   ]
  },
  {
   "cell_type": "markdown",
   "metadata": {},
   "source": [
    "Next we can define the temperature of a disk around a black hole as well as the Planck spectrum for a black hole disk:"
   ]
  },
  {
   "cell_type": "code",
   "execution_count": 1,
   "metadata": {},
   "outputs": [],
   "source": [
      "def disk_temperature(R: float, R0: float, M: float, Mdot: float): \n",
      "# The surface temperature of a steady-state disk with inner radius R0 \n",
      "# This is Eqn. 3.23 of Pringle (1981). \n",
      "   return Tstar(R0, M, Mdot) * ((R0 / R) ** 3 * (1 - sqrt(R0 / R))) ** 0.25 \n \n",
      "def Tstar(R0: float, M: float, Mdot: float): \n",
      "# The temperature of the inner edge of a steady-state accretion disk \n",
      "# This equation appears below Eqn. 3.23 of Pringle (1981); note there is a typo in the paper: the R is missing a subscript 'star'. \n",
      "  return (3 * G * M * Mdot / (8 * pi * R0**3 * sb)) ** 0.25 \n \n",
      "def planck_spectrum(T, nu): \n",
      "# The specific intensity of a blackbody of temperature T, and frequency nu. \n",
      "  return 2 * h * nu**3 / c**2 / (exp(h * nu / (k * T)) - 1)"
   ]
  },
  {
   "cell_type": "markdown",
   "metadata": {},
   "source": [
    "Finally, here is a function for the disk spectrum using the functions defined above:"
   ]
  },
  {
   "cell_type": "code",
   "execution_count": 1,
   "metadata": {},
   "outputs": [],
   "source": [
    "# Produce a disk spectrum \n",
    "# Uses a 1st-order integral over disk radius to produce the multi-temperature \n",
    "# Blackbody spectrum of a disk, which extends from R0 to Rout. \n",
    "# Note: the frequency range is currently hard-coded. \n",
    "# Note: multiply the result by pi to obtain the isotropic specific power \n",
    "# Inu = integral of 2 * pi * R * dR * Bnu(T(R), nu) from R0 -> Rout \n",
   ]
  },
{
   "cell_type": "markdown",
   "metadata": {},
   "source": [
    "Here we define the variables which one can change depending on the initial conditions desired. Default initial condition will be such that the mass ratio of the MBHB is q=0.01, preferrential accretion of 10, and the binary is accreting at the Eddington limit."
  ]
},
  {
   "cell_type": "code",
   "execution_count": 1,
   "metadata": {},
   "outputs": [],
   "source": [
   ]
  },
{
   "cell_type": "markdown",
   "metadata": {},
   "source": [
    "Here is the spectrum from the the inner disk within the MBHB system:"
   ]
  },
  {
   "cell_type": "code",
   "execution_count": 1,
   "metadata": {},
   "outputs": [],
   "source": [
      "nu_v, Inu1 = disk_spectrum(M1, Mdot1, Risco(M1), a0 - HillR(q) * a0, delta=0.001)"
   ]
  },
  {
   "cell_type": "markdown",
   "metadata": {},
   "source": [
    "Here is the spectrum from the the secondary disk within the MBHB system:"
   ]
  },
  {
   "cell_type": "code",
   "execution_count": 1,
   "metadata": {},
   "outputs": [],
   "source": [
      "nu_v, Inu2 = disk_spectrum(M2, Mdot2, Risco(M2), HillR(q) * a0, delta=0.001)"
   ]
  },
  {
   "cell_type": "markdown",
   "metadata": {},
   "source": [
    "Here is the spectrum from the the outer disk within the MBHB system:"
   ]
  },
  {
   "cell_type": "code",
   "execution_count": 1,
   "metadata": {},
   "outputs": [],
   "source": [
      "nu_v, Inu3 = disk_spectrum(M, Mdot, a0 + HillR(q) * a0, 1e6 * a0, delta=0.001)"
   ]
  },
    {
   "cell_type": "markdown",
   "metadata": {},
   "source": [
    "Here is the total spectrum (multiplied by pi to get the isotropic specific power) and frequency range:"
   ]
  },
  {
   "cell_type": "code",
   "execution_count": 1,
   "metadata": {},
   "outputs": [],
   "source": [
      "nu = 0.5 * (nu_v[1:] + nu_v[:-1]) \n",
      "Lnu1 = pi * Inu1 * nu \n",
      "Lnu2 = pi * Inu2 * nu \n",
      "Lnu3 = pi * Inu3 * nu \n", 
      "Lnutot = Lnu1 + Lnu2 + Lnu3"
   ]
  },
  {
   "cell_type": "markdown",
   "metadata": {},
   "source": [
    "Finally, we will plot the spectra of the MBHB system:"
   ]
  },
  {
   "cell_type": "code",
   "execution_count": 1,
   "metadata": {},
   "outputs": [],
   "source": [
   ]
  },
{
   "cell_type": "code",
   "execution_count": null,
   "metadata": {},
   "outputs": [],
   "source": []
  }
 ],
 "metadata": {
  "interpreter": {
   "hash": "fd578b525fe7fcca8a3ea11350d18bcbeb29af20bd1df15f6c5fd2c9cf111483"
  },
  "kernelspec": {
   "display_name": "Python 3 (ipykernel)",
   "language": "python",
   "name": "python3"
  },
  "language_info": {
   "codemirror_mode": {
    "name": "ipython",
    "version": 3
   },
   "file_extension": ".py",
   "mimetype": "text/x-python",
   "name": "python",
   "nbconvert_exporter": "python",
   "pygments_lexer": "ipython3",
   "version": "3.11.4"
  }
 },
 "nbformat": 4,
 "nbformat_minor": 2
}
