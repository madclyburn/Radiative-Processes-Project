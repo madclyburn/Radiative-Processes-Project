{
 "cells": [
  {
   "cell_type": "markdown",
   "metadata": {},
   "source": [
    "# Homework9\n",
    "My proposed Jupyter notebook project for the Radiative Processes class is a toy-model python script to calculate the spectrum from a gas disk around an unequal-mass, accreting, massive black hole binary (MBHB). MBHBs are predicted to form from galaxy mergers after the respective black holes within the two galaxies sink towards the center due to dynamical friction. Unequal mass MBHBs are more likely to form than equal mass systems. Gas remnants from the galaxy merger will settle into 3 disks around the MBHB system: an inner disk around the primary (or larger) black hole, a secondary mini-disk around the secondary (or smaller) black hole, and the outer disk that extends from the secondary black hole's orbit outwards. Assuming a steady state disk, we can estimate the spectrum of each disk to be a blackbody spectrum. My code will take initial conditions (such as mass of the binary, mass ratio of black holes, and Eddington accretion rate factor) and output the total spectrum of the MBHB system by adding the blackbody spectrum for each disk. This is directly relevant to my research and has never been produced in the literature. Later, I will extend this project to take initial conditions from my simulations of MBHB systems inspiralling towards merger to determine how the spectral appearance of MBHB evolves over the inspiral."
   ]
  },
  {
   "cell_type": "markdown",
   "metadata": {},
   "source": [
    "The next cell will import the necessary python libraries"
   ]
  },
  {
   "cell_type": "code",
   "execution_count": 1,
   "metadata": {},
   "outputs": [],
   "source": [
   ]
  },
  {
   "cell_type": "markdown",
   "metadata": {},
   "source": [
    "Here we define the constants for any MBHB system:"
   ]
  },
  {
   "cell_type": "code",
   "execution_count": 2,
   "metadata": {},
   "outputs": [],
   "source": [
   ]
  },
  {
   "cell_type": "markdown",
   "metadata": {},
   "source": [
    "Below are functions for the mass accretion rate, the innermost stable circular orbit (ISCO) around a black hole, the Hill radius of the secondary black hole, and the gravitational radius:"
   ]
  },
  {
   "cell_type": "code",
   "execution_count": 1,
   "metadata": {},
   "outputs": [],
   "source": [
   ]
  },
  {
   "cell_type": "markdown",
   "metadata": {},
   "source": [
    "Next we can define the temperature of a disk around a black hole as well as the Planck spectrum for a black hole disk:"
   ]
  },
  {
   "cell_type": "code",
   "execution_count": 1,
   "metadata": {},
   "outputs": [],
   "source": [
   ]
  },
  {
   "cell_type": "markdown",
   "metadata": {},
   "source": [
    "Finally, here is a function for the disk spectrum using the functions defined above:"
   ]
  },
  {
   "cell_type": "code",
   "execution_count": 1,
   "metadata": {},
   "outputs": [],
   "source": [
   ]
  },
{
   "cell_type": "markdown",
   "metadata": {},
   "source": [
    "Here we define the variables which one can change depending on the initial conditions desired. Default initial condition will be such that the mass ratio of the MBHB is $q = M_2 / M_1 = 0.01$, preferrential accretion of $$\dot{M}_2 / \dot{M}_1 = 10$$, and the binary is accreting at the Eddington limit $$\dot{M} = \dot{M}_{\rm Edd} \approx M / t_{\rm sal}$$."
   ]
  },
  {
   "cell_type": "code",
   "execution_count": 1,
   "metadata": {},
   "outputs": [],
   "source": [
   ]
  },
{
   "cell_type": "markdown",
   "metadata": {},
   "source": [
    "Finally, we will find the spectrum of the three disks in a MBHB system and plot them below:"
   ]
  },
  {
   "cell_type": "code",
   "execution_count": 1,
   "metadata": {},
   "outputs": [],
   "source": [
   ]
  },
 ],
 "metadata": {
  "interpreter": {
   "hash": "fd578b525fe7fcca8a3ea11350d18bcbeb29af20bd1df15f6c5fd2c9cf111483"
  },
  "kernelspec": {
   "display_name": "Python 3 (ipykernel)",
   "language": "python",
   "name": "python3"
  },
  "language_info": {
   "codemirror_mode": {
    "name": "ipython",
    "version": 3
   },
   "file_extension": ".py",
   "mimetype": "text/x-python",
   "name": "python",
   "nbconvert_exporter": "python",
   "pygments_lexer": "ipython3",
   "version": "3.11.4"
  }
 },
 "nbformat": 4,
 "nbformat_minor": 2
}
