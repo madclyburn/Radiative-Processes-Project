{
 "cells": [
  {
   "cell_type": "markdown",
   "metadata": {},
   "source": [
    "# Homework9\n",
    "The goal of this notebook is to Plot the results from Homework 9."
   ]
  },
  {
   "cell_type": "markdown",
   "metadata": {},
   "source": [
    "Begin by installing and importing the necessary python libraries"
   ]
  },
  {
   "cell_type": "code",
   "execution_count": 1,
   "metadata": {},
   "outputs": [],
   "source": [
    "import sys\n",
    "import numpy as np\n",
    "from ipywidgets import interact, interactive\n",
    "import ipywidgets as widgets\n",
    "\n",
    "!{sys.executable} -m pip install --quiet matplotlib\n",
    "\n",
    "import matplotlib.pyplot as plt"
   ]
  },
  {
   "cell_type": "markdown",
   "metadata": {},
   "source": [
    "Define variables:"
   ]
  },
  {
   "cell_type": "code",
   "execution_count": 2,
   "metadata": {},
   "outputs": [],
   "source": [
    "tau_star = np.linspace(10,0)\n",
    "tau_0_star = 5\n",
    "epsilon = 0.3\n",
    "tau = tau_star / np.sqrt(3. * epsilon)\n",
    "tau_0 = tau_0_star / np.sqrt(3. * epsilon)\n",
   ]
  },
  {
   "cell_type": "markdown",
   "metadata": {},
   "source": [
    "Now plot the Intensity:"
   ]
  },
  {
   "cell_type": "code",
   "execution_count": 3,
   "metadata": {},
   "outputs": [
    {
     "data": {
      "application/vnd.jupyter.widget-view+json": {
       "model_id": "8d8b5378435b4bc0a788482843c33889",
       "version_major": 2,
       "version_minor": 0
      },
      "text/plain": [
       "interactive(children=(BoundedFloatText(value=1.0, description='m', max=10.0, step=0.1), Output()), _dom_classe…"
      ]
     },
     "metadata": {},
     "output_type": "display_data"
    },
    {
     "data": {
      "text/plain": [
       "<function __main__.plot_with_slope(m)>"
      ]
     },
     "execution_count": 3,
     "metadata": {},
     "output_type": "execute_result"
    }
   ],
   "source": [
    "plt.plot(tau, 1. - ( (1.+np.sqrt(epsilon))*np.exp(tau)*np.exp(-tau_0/2) + (1.-np.sqrt(epsilon))*np.exp(-tau)*np.exp(tau_0/2) ) / (2 * (np.sqrt(epsilon)*np.sinh(tau_0/2) + np.cosh(tau_0/2)) ) ,label = '$I^{(+)}/B$')\n",
    "plt.plot(tau, 1. - ( (1.-np.sqrt(epsilon))*np.exp(tau)*np.exp(-tau_0/2) + (1.+np.sqrt(epsilon))*np.exp(-tau)*np.exp(tau_0/2) ) / (2 * (np.sqrt(epsilon)*np.sinh(tau_0/2) + np.cosh(tau_0/2)) ), label = '$I^{(-)}/B$')\n",
    "plt.xlim([10,0])\n",
    "plt.ylim([0,1])\n",
    "plt.xlabel('$\\tau$')\n",
    "plt.legend()\n",
    "title_str = '$\\epsilon$ = ' + str(epsilon)\n",
    "plt.title(title_str)\n",
    "plt.show()"
   ]
  },
  {
   "cell_type": "markdown",
   "metadata": {},
   "source": [
    "Now plot the normalized source function, mean intensity, H, and flux:"
   ]
  },
  {
   "cell_type": "code",
   "execution_count": 3,
   "metadata": {},
   "outputs": [
    {
     "data": {
      "application/vnd.jupyter.widget-view+json": {
       "model_id": "8d8b5378435b4bc0a788482843c33889",
       "version_major": 2,
       "version_minor": 0
      },
      "text/plain": [
       "interactive(children=(BoundedFloatText(value=1.0, description='m', max=10.0, step=0.1), Output()), _dom_classe…"
      ]
     },
     "metadata": {},
     "output_type": "display_data"
    },
    {
     "data": {
      "text/plain": [
       "<function __main__.plot_with_slope(m)>"
      ]
     },
     "execution_count": 3,
     "metadata": {},
     "output_type": "execute_result"
    }
   ],
   "source": [
    "plt.plot(tau , 1. - ( (1. - np.sqrt(epsilon)) * ( np.exp(tau)*np.exp(-tau_0/2) + np.exp(-tau)*np.exp(tau_0/2) ) / (2 * (np.sqrt(epsilon)*np.sinh(tau_0) + np.cosh(tau_0/2)) ) ) , label = 'S/B')\n",
    "plt.plot(tau, 1. - (np.exp(tau)*np.exp(-tau_0/2) + np.exp(-tau)*np.exp(tau_0/2)) / (2 * (np.sqrt(epsilon)*np.sinh(tau_0) + np.cosh(tau_0/2)) ), label = 'J/B')\n",
    "plt.plot(tau, (1. / 2. * np.sqrt(epsilon / 3.)) * (np.exp(-tau)*np.exp(tau_0/2) - np.exp(tau)*np.exp(-tau_0/2)) / (np.sqrt(epsilon)*np.sinh(tau_0) + np.cosh(tau_0/2)), label = 'H/B')\n",
    "plt.plot(tau, (np.exp(-tau)*np.exp(tau_0/2) - np.exp(tau)*np.exp(-tau_0/2)) / np.sinh(tau_0/2), label = 'F/F(0)')\n",
    "plt.xlim([10,0])\n",
    "plt.ylim([0,1])\n",
    "plt.xlabel('$\\tau$')\n",
    "plt.legend()\n",
    "title_str = '$\\epsilon$ = ' + str(epsilon)\n",
    "plt.title(title_str)\n",
    "plt.show()\n"
   ]
  },
  {
   "cell_type": "code",
   "execution_count": null,
   "metadata": {},
   "outputs": [],
   "source": []
  }
 ],
 "metadata": {
  "interpreter": {
   "hash": "fd578b525fe7fcca8a3ea11350d18bcbeb29af20bd1df15f6c5fd2c9cf111483"
  },
  "kernelspec": {
   "display_name": "Python 3 (ipykernel)",
   "language": "python",
   "name": "python3"
  },
  "language_info": {
   "codemirror_mode": {
    "name": "ipython",
    "version": 3
   },
   "file_extension": ".py",
   "mimetype": "text/x-python",
   "name": "python",
   "nbconvert_exporter": "python",
   "pygments_lexer": "ipython3",
   "version": "3.11.4"
  }
 },
 "nbformat": 4,
 "nbformat_minor": 2
}
